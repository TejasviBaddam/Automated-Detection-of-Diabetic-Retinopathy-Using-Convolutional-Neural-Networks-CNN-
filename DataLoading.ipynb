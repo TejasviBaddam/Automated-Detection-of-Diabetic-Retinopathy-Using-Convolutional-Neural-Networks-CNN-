{
  "nbformat": 4,
  "nbformat_minor": 0,
  "metadata": {
    "colab": {
      "provenance": [],
      "authorship_tag": "ABX9TyM7P1cNAbEwft+s6HHIQEQd",
      "include_colab_link": true
    },
    "kernelspec": {
      "name": "python3",
      "display_name": "Python 3"
    },
    "language_info": {
      "name": "python"
    }
  },
  "cells": [
    {
      "cell_type": "markdown",
      "metadata": {
        "id": "view-in-github",
        "colab_type": "text"
      },
      "source": [
        "<a href=\"https://colab.research.google.com/github/TejasviBaddam/Automated-Detection-of-Diabetic-Retinopathy-Using-Convolutional-Neural-Networks-CNN-/blob/main/DataLoading.ipynb\" target=\"_parent\"><img src=\"https://colab.research.google.com/assets/colab-badge.svg\" alt=\"Open In Colab\"/></a>"
      ]
    },
    {
      "cell_type": "code",
      "execution_count": 2,
      "metadata": {
        "colab": {
          "base_uri": "https://localhost:8080/"
        },
        "id": "dn5eCl8G-hK7",
        "outputId": "e3e6fef8-3ff9-4c8a-a6f3-6545ff05d1a1"
      },
      "outputs": [
        {
          "output_type": "stream",
          "name": "stdout",
          "text": [
            "Mounted at /content/drive\n"
          ]
        }
      ],
      "source": [
        "from google.colab import drive\n",
        "import os\n",
        "drive.mount('/content/drive')"
      ]
    },
    {
      "cell_type": "code",
      "source": [
        "import tensorflow as tf\n",
        "from tensorflow.keras.applications import ResNet50\n",
        "from tensorflow.keras.models import Sequential\n",
        "from tensorflow.keras.layers import Dense, Flatten, Dropout\n",
        "from tensorflow.keras.optimizers import Adam\n",
        "from tensorflow.keras.models import Sequential\n",
        "import matplotlib.pyplot as plt\n",
        "import pandas as pd\n",
        "import seaborn as sns\n",
        "import os\n",
        "import shutil\n",
        "from PIL import Image, ImageEnhance, ImageFilter\n",
        "import numpy as np\n",
        "from tqdm import tqdm\n",
        "from tensorflow.keras.preprocessing.image import ImageDataGenerator\n",
        "from tensorflow.keras.layers import Conv2D, MaxPooling2D, Flatten, Dense, Dropout, Input\n",
        "from tensorflow.keras.callbacks import EarlyStopping, ModelCheckpoint, ReduceLROnPlateau\n",
        "from tensorflow.keras.regularizers import l2\n",
        "from sklearn.metrics import classification_report, confusion_matrix"
      ],
      "metadata": {
        "id": "aBFPXRBZ-mT0"
      },
      "execution_count": 3,
      "outputs": []
    },
    {
      "cell_type": "code",
      "source": [
        "def analyze_images(folder_path):\n",
        "    image_count = 0\n",
        "    resolutions = {}\n",
        "    formats = {}\n",
        "\n",
        "    for root, dirs, files in os.walk(folder_path):\n",
        "        for file in files:\n",
        "            try:\n",
        "                image_path = os.path.join(root, file)\n",
        "                with Image.open(image_path) as img:\n",
        "                    image_count += 1\n",
        "\n",
        "                    resolution = img.size\n",
        "                    resolutions[resolution] = resolutions.get(resolution, 0) + 1\n",
        "\n",
        "                    img_format = img.format\n",
        "                    formats[img_format] = formats.get(img_format, 0) + 1\n",
        "            except Exception as e:\n",
        "                print(f\"Error processing file {file}: {e}\")\n",
        "\n",
        "    return image_count, resolutions, formats\n",
        "\n",
        "\n",
        "train_folder = r\"/content/drive/MyDrive/dataset/train_images\"\n",
        "test_folder = r\"/content/drive/MyDrive/dataset/test_images\"\n",
        "\n",
        "print(\"Analyzing Training Dataset...\")\n",
        "train_count, train_resolutions, train_formats = analyze_images(train_folder)\n",
        "print(f\"Total Training Images: {train_count}\")\n",
        "print(f\"Training Image Resolutions: {train_resolutions}\")\n",
        "print(f\"Training Image Formats: {train_formats}\")"
      ],
      "metadata": {
        "colab": {
          "base_uri": "https://localhost:8080/"
        },
        "id": "pbCM9508_Lkh",
        "outputId": "edeb8f69-22cd-4304-fc50-772a49964d80"
      },
      "execution_count": 4,
      "outputs": [
        {
          "output_type": "stream",
          "name": "stdout",
          "text": [
            "Analyzing Training Dataset...\n",
            "Total Training Images: 3662\n",
            "Training Image Resolutions: {(1050, 1050): 974, (2588, 1958): 533, (2896, 1944): 34, (3216, 2136): 410, (3388, 2588): 141, (1504, 1000): 92, (819, 614): 287, (2416, 1736): 638, (2048, 1536): 351, (1844, 1226): 61, (2144, 1424): 28, (4288, 2848): 52, (1476, 1117): 14, (640, 480): 42, (1467, 1110): 2, (2146, 1764): 1, (474, 358): 2}\n",
            "Training Image Formats: {'PNG': 3662}\n"
          ]
        }
      ]
    },
    {
      "cell_type": "code",
      "source": [
        "print(\"\\nAnalyzing Testing Dataset...\")\n",
        "test_count, test_resolutions, test_formats = analyze_images(test_folder)\n",
        "print(f\"Total Testing Images: {test_count}\")\n",
        "print(f\"Testing Image Resolutions: {test_resolutions}\")\n",
        "print(f\"Testing Image Formats: {test_formats}\")"
      ],
      "metadata": {
        "colab": {
          "base_uri": "https://localhost:8080/"
        },
        "id": "4y86W75j_kz0",
        "outputId": "3f9cabde-26ae-4034-cf7f-4fd04f7dbe25"
      },
      "execution_count": 5,
      "outputs": [
        {
          "output_type": "stream",
          "name": "stdout",
          "text": [
            "\n",
            "Analyzing Testing Dataset...\n",
            "Total Testing Images: 1928\n",
            "Testing Image Resolutions: {(1476, 1117): 2, (640, 480): 1403, (2588, 1958): 134, (2416, 1736): 225, (2048, 1536): 28, (2896, 1944): 11, (1050, 1050): 69, (819, 614): 45, (2592, 1944): 6, (768, 576): 2, (1467, 1110): 2, (2146, 1764): 1}\n",
            "Testing Image Formats: {'PNG': 1928}\n"
          ]
        }
      ]
    },
    {
      "cell_type": "code",
      "source": [
        "def analyze_csv(file_path, dataset_name):\n",
        "    try:\n",
        "        data = pd.read_csv(file_path)\n",
        "\n",
        "        print(f\"\\nAnalyzing {dataset_name} Dataset Metadata...\")\n",
        "        print(f\"Number of Rows: {data.shape[0]}\")\n",
        "        print(f\"Number of Columns: {data.shape[1]}\")\n",
        "        print(\"\\nColumn Names:\")\n",
        "        print(data.columns)\n",
        "\n",
        "        print(\"\\nMissing Values Per Column:\")\n",
        "        print(data.isnull().sum())\n",
        "\n",
        "        print(\"\\nUnique Values in Each Column:\")\n",
        "        for column in data.columns:\n",
        "            print(f\"{column}: {data[column].nunique()} unique values\")\n",
        "\n",
        "        if 'label' in data.columns or 'diagnosis' in data.columns:  # Assuming the column might be 'label' or 'diagnosis'\n",
        "            label_column = 'label' if 'label' in data.columns else 'diagnosis'\n",
        "            print(f\"\\nDistribution of {label_column} Labels:\")\n",
        "            print(data[label_column].value_counts())\n",
        "\n",
        "    except Exception as e:\n",
        "        print(f\"Error reading {file_path}: {e}\")\n",
        "\n",
        "\n",
        "train_csv = r\"/content/drive/MyDrive/dataset/train.csv\"\n",
        "test_csv = r\"/content/drive/MyDrive/dataset/test.csv\"\n",
        "\n",
        "analyze_csv(train_csv, \"Training\")"
      ],
      "metadata": {
        "colab": {
          "base_uri": "https://localhost:8080/"
        },
        "id": "S8L63b80_s_r",
        "outputId": "3601ce34-dd79-49b3-ffca-90e5d260b997"
      },
      "execution_count": 7,
      "outputs": [
        {
          "output_type": "stream",
          "name": "stdout",
          "text": [
            "\n",
            "Analyzing Training Dataset Metadata...\n",
            "Number of Rows: 3662\n",
            "Number of Columns: 2\n",
            "\n",
            "Column Names:\n",
            "Index(['id_code', 'diagnosis'], dtype='object')\n",
            "\n",
            "Missing Values Per Column:\n",
            "id_code      0\n",
            "diagnosis    0\n",
            "dtype: int64\n",
            "\n",
            "Unique Values in Each Column:\n",
            "id_code: 3662 unique values\n",
            "diagnosis: 5 unique values\n",
            "\n",
            "Distribution of diagnosis Labels:\n",
            "diagnosis\n",
            "0    1805\n",
            "2     999\n",
            "1     370\n",
            "4     295\n",
            "3     193\n",
            "Name: count, dtype: int64\n"
          ]
        }
      ]
    },
    {
      "cell_type": "code",
      "source": [
        "analyze_csv(test_csv, \"Testing\")"
      ],
      "metadata": {
        "colab": {
          "base_uri": "https://localhost:8080/"
        },
        "id": "XUUR3dXj_9VG",
        "outputId": "d58765e1-c8d7-43ab-9fc5-6655f16a7f87"
      },
      "execution_count": 8,
      "outputs": [
        {
          "output_type": "stream",
          "name": "stdout",
          "text": [
            "\n",
            "Analyzing Testing Dataset Metadata...\n",
            "Number of Rows: 1928\n",
            "Number of Columns: 1\n",
            "\n",
            "Column Names:\n",
            "Index(['id_code'], dtype='object')\n",
            "\n",
            "Missing Values Per Column:\n",
            "id_code    0\n",
            "dtype: int64\n",
            "\n",
            "Unique Values in Each Column:\n",
            "id_code: 1928 unique values\n"
          ]
        }
      ]
    }
  ]
}